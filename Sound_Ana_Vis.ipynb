{
 "cells": [
  {
   "cell_type": "markdown",
   "metadata": {},
   "source": [
    "# Contents:\n",
    " 1.Data loading\n",
    " \n",
    " 2.Data analysis(EDA)\n",
    " \n",
    " 3.Data visiualistion\n",
    " \n",
    " 4.Feature Extraction"
   ]
  },
  {
   "cell_type": "markdown",
   "metadata": {},
   "source": [
    "# 1.Data loading"
   ]
  },
  {
   "cell_type": "code",
   "execution_count": 1,
   "metadata": {},
   "outputs": [],
   "source": [
    "#Library import\n",
    "import sys\n",
    "\n",
    "try:\n",
    "    import warnings # current version of seaborn generates a bunch of warnings that we'll ignore\n",
    "    warnings.filterwarnings(\"ignore\")\n",
    "    import librosa\n",
    "    import scipy\n",
    "    import wave\n",
    "    import urllib\n",
    "    import numpy as np\n",
    "    import matplotlib.pyplot as plt\n",
    "    from pydub import AudioSegment\n",
    "    from pydub.utils import db_to_float\n",
    "    from pydub.silence import split_on_silence\n",
    "    from pydub.silence import detect_silence\n",
    "    import math\n",
    "    \n",
    "except ImportError as error:\n",
    "    print(error)\n",
    "    print('PLEASE ENSURE YOU HAVE DOWNLOADED ALL THE LIBRARIES PROPERLY')\n",
    "    print('DLL ERROR ARISES DUE TO IMPROPER INSATLLING OF SCIPY SINCE LIBROSA LIBRARY HAS DEPENDENCY ON SCIPY')\n",
    "except:\n",
    "    pass"
   ]
  },
  {
   "cell_type": "code",
   "execution_count": 2,
   "metadata": {},
   "outputs": [],
   "source": [
    "try:\n",
    "    data,sampling_rate = librosa.load('human.wav')\n",
    "    m= data.size\n",
    "\n",
    "#duration\n",
    "    duration=int(m/sampling_rate)#duration of audio\n",
    "\n",
    "#furrier transform of data\n",
    "    data_fft = np.fft.rfft(data)\n",
    "\n",
    "#frequencies\n",
    "    frequencies = np.abs(data_fft)\n",
    "except:\n",
    "    print('Ensure file is downloaded and saved in very folder')"
   ]
  },
  {
   "cell_type": "markdown",
   "metadata": {},
   "source": [
    "# 2. Exploratory Data Analysis"
   ]
  },
  {
   "cell_type": "code",
   "execution_count": 3,
   "metadata": {},
   "outputs": [],
   "source": [
    "try:\n",
    "    import pandas as pd\n",
    "    d=pd.DataFrame(data,columns=[\"Amplitudes\"],index=None)\n",
    "except Exception as error:\n",
    "    print(error)\n",
    "    print('Ensure pandas is dowloaded properly')"
   ]
  },
  {
   "cell_type": "code",
   "execution_count": 4,
   "metadata": {},
   "outputs": [
    {
     "data": {
      "text/html": [
       "<div>\n",
       "<style scoped>\n",
       "    .dataframe tbody tr th:only-of-type {\n",
       "        vertical-align: middle;\n",
       "    }\n",
       "\n",
       "    .dataframe tbody tr th {\n",
       "        vertical-align: top;\n",
       "    }\n",
       "\n",
       "    .dataframe thead th {\n",
       "        text-align: right;\n",
       "    }\n",
       "</style>\n",
       "<table border=\"1\" class=\"dataframe\">\n",
       "  <thead>\n",
       "    <tr style=\"text-align: right;\">\n",
       "      <th></th>\n",
       "      <th>Amplitudes</th>\n",
       "    </tr>\n",
       "  </thead>\n",
       "  <tbody>\n",
       "    <tr>\n",
       "      <th>0</th>\n",
       "      <td>7.575186e-07</td>\n",
       "    </tr>\n",
       "    <tr>\n",
       "      <th>1</th>\n",
       "      <td>-1.428961e-06</td>\n",
       "    </tr>\n",
       "    <tr>\n",
       "      <th>2</th>\n",
       "      <td>6.526796e-06</td>\n",
       "    </tr>\n",
       "    <tr>\n",
       "      <th>3</th>\n",
       "      <td>3.472861e-05</td>\n",
       "    </tr>\n",
       "    <tr>\n",
       "      <th>4</th>\n",
       "      <td>2.160207e-05</td>\n",
       "    </tr>\n",
       "  </tbody>\n",
       "</table>\n",
       "</div>"
      ],
      "text/plain": [
       "     Amplitudes\n",
       "0  7.575186e-07\n",
       "1 -1.428961e-06\n",
       "2  6.526796e-06\n",
       "3  3.472861e-05\n",
       "4  2.160207e-05"
      ]
     },
     "execution_count": 4,
     "metadata": {},
     "output_type": "execute_result"
    }
   ],
   "source": [
    "d.head()"
   ]
  },
  {
   "cell_type": "code",
   "execution_count": 5,
   "metadata": {},
   "outputs": [
    {
     "data": {
      "text/html": [
       "<div>\n",
       "<style scoped>\n",
       "    .dataframe tbody tr th:only-of-type {\n",
       "        vertical-align: middle;\n",
       "    }\n",
       "\n",
       "    .dataframe tbody tr th {\n",
       "        vertical-align: top;\n",
       "    }\n",
       "\n",
       "    .dataframe thead th {\n",
       "        text-align: right;\n",
       "    }\n",
       "</style>\n",
       "<table border=\"1\" class=\"dataframe\">\n",
       "  <thead>\n",
       "    <tr style=\"text-align: right;\">\n",
       "      <th></th>\n",
       "      <th>Amplitudes</th>\n",
       "    </tr>\n",
       "  </thead>\n",
       "  <tbody>\n",
       "    <tr>\n",
       "      <th>count</th>\n",
       "      <td>1.530560e+05</td>\n",
       "    </tr>\n",
       "    <tr>\n",
       "      <th>mean</th>\n",
       "      <td>2.565118e-06</td>\n",
       "    </tr>\n",
       "    <tr>\n",
       "      <th>std</th>\n",
       "      <td>2.472161e-02</td>\n",
       "    </tr>\n",
       "    <tr>\n",
       "      <th>min</th>\n",
       "      <td>-6.056067e-01</td>\n",
       "    </tr>\n",
       "    <tr>\n",
       "      <th>25%</th>\n",
       "      <td>-2.186348e-05</td>\n",
       "    </tr>\n",
       "    <tr>\n",
       "      <th>50%</th>\n",
       "      <td>-1.262836e-09</td>\n",
       "    </tr>\n",
       "    <tr>\n",
       "      <th>75%</th>\n",
       "      <td>2.163452e-05</td>\n",
       "    </tr>\n",
       "    <tr>\n",
       "      <th>max</th>\n",
       "      <td>5.496282e-01</td>\n",
       "    </tr>\n",
       "  </tbody>\n",
       "</table>\n",
       "</div>"
      ],
      "text/plain": [
       "         Amplitudes\n",
       "count  1.530560e+05\n",
       "mean   2.565118e-06\n",
       "std    2.472161e-02\n",
       "min   -6.056067e-01\n",
       "25%   -2.186348e-05\n",
       "50%   -1.262836e-09\n",
       "75%    2.163452e-05\n",
       "max    5.496282e-01"
      ]
     },
     "execution_count": 5,
     "metadata": {},
     "output_type": "execute_result"
    }
   ],
   "source": [
    "d.describe()"
   ]
  },
  {
   "cell_type": "code",
   "execution_count": 6,
   "metadata": {},
   "outputs": [
    {
     "data": {
      "text/plain": [
       "<matplotlib.axes._subplots.AxesSubplot at 0x20b89e83a58>"
      ]
     },
     "execution_count": 6,
     "metadata": {},
     "output_type": "execute_result"
    },
    {
     "data": {
      "image/png": "[encoded data removed]",
      "text/plain": [
       "<Figure size 432x288 with 1 Axes>"
      ]
     },
     "metadata": {
      "needs_background": "light"
     },
     "output_type": "display_data"
    }
   ],
   "source": [
    "d[\"Amplitudes\"].plot(bins=10,kind='hist')"
   ]
  },
  {
   "cell_type": "code",
   "execution_count": 7,
   "metadata": {},
   "outputs": [],
   "source": [
    "freq=pd.DataFrame(data_fft)\n",
    "d[\"frequencies\"]=freq"
   ]
  },
  {
   "cell_type": "code",
   "execution_count": 8,
   "metadata": {},
   "outputs": [
    {
     "data": {
      "text/html": [
       "<div>\n",
       "<style scoped>\n",
       "    .dataframe tbody tr th:only-of-type {\n",
       "        vertical-align: middle;\n",
       "    }\n",
       "\n",
       "    .dataframe tbody tr th {\n",
       "        vertical-align: top;\n",
       "    }\n",
       "\n",
       "    .dataframe thead th {\n",
       "        text-align: right;\n",
       "    }\n",
       "</style>\n",
       "<table border=\"1\" class=\"dataframe\">\n",
       "  <thead>\n",
       "    <tr style=\"text-align: right;\">\n",
       "      <th></th>\n",
       "      <th>Amplitudes</th>\n",
       "      <th>frequencies</th>\n",
       "    </tr>\n",
       "  </thead>\n",
       "  <tbody>\n",
       "    <tr>\n",
       "      <th>0</th>\n",
       "      <td>7.575186e-07</td>\n",
       "      <td>(0.392614+0j)</td>\n",
       "    </tr>\n",
       "    <tr>\n",
       "      <th>1</th>\n",
       "      <td>-1.428961e-06</td>\n",
       "      <td>(-0.3120233+0.16710901j)</td>\n",
       "    </tr>\n",
       "    <tr>\n",
       "      <th>2</th>\n",
       "      <td>6.526796e-06</td>\n",
       "      <td>(0.14005983-0.20298526j)</td>\n",
       "    </tr>\n",
       "    <tr>\n",
       "      <th>3</th>\n",
       "      <td>3.472861e-05</td>\n",
       "      <td>(-0.01505713+0.1214083j)</td>\n",
       "    </tr>\n",
       "    <tr>\n",
       "      <th>4</th>\n",
       "      <td>2.160207e-05</td>\n",
       "      <td>(-0.0060140905-0.024395395j)</td>\n",
       "    </tr>\n",
       "  </tbody>\n",
       "</table>\n",
       "</div>"
      ],
      "text/plain": [
       "     Amplitudes                   frequencies\n",
       "0  7.575186e-07                 (0.392614+0j)\n",
       "1 -1.428961e-06      (-0.3120233+0.16710901j)\n",
       "2  6.526796e-06      (0.14005983-0.20298526j)\n",
       "3  3.472861e-05      (-0.01505713+0.1214083j)\n",
       "4  2.160207e-05  (-0.0060140905-0.024395395j)"
      ]
     },
     "execution_count": 8,
     "metadata": {},
     "output_type": "execute_result"
    }
   ],
   "source": [
    "d.head()"
   ]
  },
  {
   "cell_type": "code",
   "execution_count": 9,
   "metadata": {},
   "outputs": [],
   "source": [
    "#Since fourier transform i.e F requencies contain imaginary part also\n",
    "#Droping imaginary part\n",
    "d.drop([\"frequencies\"],axis=1,inplace=True)\n"
   ]
  },
  {
   "cell_type": "code",
   "execution_count": 10,
   "metadata": {},
   "outputs": [
    {
     "data": {
      "text/html": [
       "<div>\n",
       "<style scoped>\n",
       "    .dataframe tbody tr th:only-of-type {\n",
       "        vertical-align: middle;\n",
       "    }\n",
       "\n",
       "    .dataframe tbody tr th {\n",
       "        vertical-align: top;\n",
       "    }\n",
       "\n",
       "    .dataframe thead th {\n",
       "        text-align: right;\n",
       "    }\n",
       "</style>\n",
       "<table border=\"1\" class=\"dataframe\">\n",
       "  <thead>\n",
       "    <tr style=\"text-align: right;\">\n",
       "      <th></th>\n",
       "      <th>Amplitudes</th>\n",
       "      <th>frequencies</th>\n",
       "    </tr>\n",
       "  </thead>\n",
       "  <tbody>\n",
       "    <tr>\n",
       "      <th>0</th>\n",
       "      <td>7.575186e-07</td>\n",
       "      <td>0.392614</td>\n",
       "    </tr>\n",
       "    <tr>\n",
       "      <th>1</th>\n",
       "      <td>-1.428961e-06</td>\n",
       "      <td>0.353955</td>\n",
       "    </tr>\n",
       "    <tr>\n",
       "      <th>2</th>\n",
       "      <td>6.526796e-06</td>\n",
       "      <td>0.246617</td>\n",
       "    </tr>\n",
       "    <tr>\n",
       "      <th>3</th>\n",
       "      <td>3.472861e-05</td>\n",
       "      <td>0.122338</td>\n",
       "    </tr>\n",
       "    <tr>\n",
       "      <th>4</th>\n",
       "      <td>2.160207e-05</td>\n",
       "      <td>0.025126</td>\n",
       "    </tr>\n",
       "  </tbody>\n",
       "</table>\n",
       "</div>"
      ],
      "text/plain": [
       "     Amplitudes  frequencies\n",
       "0  7.575186e-07     0.392614\n",
       "1 -1.428961e-06     0.353955\n",
       "2  6.526796e-06     0.246617\n",
       "3  3.472861e-05     0.122338\n",
       "4  2.160207e-05     0.025126"
      ]
     },
     "execution_count": 10,
     "metadata": {},
     "output_type": "execute_result"
    }
   ],
   "source": [
    "#considering only real part of frequencies\n",
    "freq=pd.DataFrame(frequencies)\n",
    "d[\"frequencies\"]=freq\n",
    "d.head()"
   ]
  },
  {
   "cell_type": "code",
   "execution_count": 11,
   "metadata": {},
   "outputs": [
    {
     "data": {
      "text/html": [
       "<div>\n",
       "<style scoped>\n",
       "    .dataframe tbody tr th:only-of-type {\n",
       "        vertical-align: middle;\n",
       "    }\n",
       "\n",
       "    .dataframe tbody tr th {\n",
       "        vertical-align: top;\n",
       "    }\n",
       "\n",
       "    .dataframe thead th {\n",
       "        text-align: right;\n",
       "    }\n",
       "</style>\n",
       "<table border=\"1\" class=\"dataframe\">\n",
       "  <thead>\n",
       "    <tr style=\"text-align: right;\">\n",
       "      <th></th>\n",
       "      <th>Amplitudes</th>\n",
       "      <th>frequencies</th>\n",
       "    </tr>\n",
       "  </thead>\n",
       "  <tbody>\n",
       "    <tr>\n",
       "      <th>16975</th>\n",
       "      <td>0.000034</td>\n",
       "      <td>116.121178</td>\n",
       "    </tr>\n",
       "    <tr>\n",
       "      <th>16961</th>\n",
       "      <td>0.000003</td>\n",
       "      <td>109.395721</td>\n",
       "    </tr>\n",
       "    <tr>\n",
       "      <th>17191</th>\n",
       "      <td>0.000037</td>\n",
       "      <td>102.854042</td>\n",
       "    </tr>\n",
       "    <tr>\n",
       "      <th>16976</th>\n",
       "      <td>0.000023</td>\n",
       "      <td>102.690269</td>\n",
       "    </tr>\n",
       "    <tr>\n",
       "      <th>16960</th>\n",
       "      <td>-0.000043</td>\n",
       "      <td>101.416695</td>\n",
       "    </tr>\n",
       "  </tbody>\n",
       "</table>\n",
       "</div>"
      ],
      "text/plain": [
       "       Amplitudes  frequencies\n",
       "16975    0.000034   116.121178\n",
       "16961    0.000003   109.395721\n",
       "17191    0.000037   102.854042\n",
       "16976    0.000023   102.690269\n",
       "16960   -0.000043   101.416695"
      ]
     },
     "execution_count": 11,
     "metadata": {},
     "output_type": "execute_result"
    }
   ],
   "source": [
    "#maximum frequency\n",
    "maxFr=d.sort_values(by=\"frequencies\",ascending=False).head()\n",
    "maxFr"
   ]
  },
  {
   "cell_type": "code",
   "execution_count": 12,
   "metadata": {},
   "outputs": [
    {
     "name": "stdout",
     "output_type": "stream",
     "text": [
      "<class 'pandas.core.frame.DataFrame'>\n",
      "RangeIndex: 153056 entries, 0 to 153055\n",
      "Data columns (total 2 columns):\n",
      "Amplitudes     153056 non-null float32\n",
      "frequencies    76529 non-null float32\n",
      "dtypes: float32(2)\n",
      "memory usage: 1.2 MB\n"
     ]
    }
   ],
   "source": [
    "d.info()"
   ]
  },
  {
   "cell_type": "code",
   "execution_count": 13,
   "metadata": {},
   "outputs": [
    {
     "data": {
      "text/plain": [
       "frequencies    49.999347\n",
       "Amplitudes      0.000000\n",
       "dtype: float64"
      ]
     },
     "execution_count": 13,
     "metadata": {},
     "output_type": "execute_result"
    }
   ],
   "source": [
    "missing_ratio=(d.isnull().sum()/len(d))*100\n",
    "missing_ratio.sort_values(ascending=False)"
   ]
  },
  {
   "cell_type": "code",
   "execution_count": 14,
   "metadata": {},
   "outputs": [
    {
     "data": {
      "image/png": "[encoded data removed]",
      "text/plain": [
       "<Figure size 432x288 with 1 Axes>"
      ]
     },
     "metadata": {
      "needs_background": "light"
     },
     "output_type": "display_data"
    }
   ],
   "source": [
    "#Checking Null values\n",
    "try:\n",
    "    import seaborn as sns\n",
    "    sns.heatmap(d.isnull(),yticklabels=False,cbar=False,cmap=\"viridis\")\n",
    "except:\n",
    "    print('Import seaborn library')"
   ]
  },
  {
   "cell_type": "code",
   "execution_count": 15,
   "metadata": {},
   "outputs": [],
   "source": [
    "#for analysing in time domain ,taking only those values which have there defined real part i.e d\n",
    "#Taking only those which have real part\n",
    "d.dropna(axis=0,inplace=True)\n"
   ]
  },
  {
   "cell_type": "code",
   "execution_count": 16,
   "metadata": {},
   "outputs": [
    {
     "name": "stdout",
     "output_type": "stream",
     "text": [
      "<class 'pandas.core.frame.DataFrame'>\n",
      "Int64Index: 76529 entries, 0 to 76528\n",
      "Data columns (total 2 columns):\n",
      "Amplitudes     76529 non-null float32\n",
      "frequencies    76529 non-null float32\n",
      "dtypes: float32(2)\n",
      "memory usage: 1.2 MB\n"
     ]
    }
   ],
   "source": [
    "d.info()"
   ]
  },
  {
   "cell_type": "code",
   "execution_count": 17,
   "metadata": {},
   "outputs": [
    {
     "data": {
      "text/html": [
       "<div>\n",
       "<style scoped>\n",
       "    .dataframe tbody tr th:only-of-type {\n",
       "        vertical-align: middle;\n",
       "    }\n",
       "\n",
       "    .dataframe tbody tr th {\n",
       "        vertical-align: top;\n",
       "    }\n",
       "\n",
       "    .dataframe thead th {\n",
       "        text-align: right;\n",
       "    }\n",
       "</style>\n",
       "<table border=\"1\" class=\"dataframe\">\n",
       "  <thead>\n",
       "    <tr style=\"text-align: right;\">\n",
       "      <th></th>\n",
       "      <th>Amplitudes</th>\n",
       "      <th>frequencies</th>\n",
       "    </tr>\n",
       "  </thead>\n",
       "  <tbody>\n",
       "    <tr>\n",
       "      <th>count</th>\n",
       "      <td>7.652900e+04</td>\n",
       "      <td>76529.000000</td>\n",
       "    </tr>\n",
       "    <tr>\n",
       "      <th>mean</th>\n",
       "      <td>-1.483061e-06</td>\n",
       "      <td>5.501440</td>\n",
       "    </tr>\n",
       "    <tr>\n",
       "      <th>std</th>\n",
       "      <td>1.776140e-02</td>\n",
       "      <td>7.954611</td>\n",
       "    </tr>\n",
       "    <tr>\n",
       "      <th>min</th>\n",
       "      <td>-3.356647e-01</td>\n",
       "      <td>0.000186</td>\n",
       "    </tr>\n",
       "    <tr>\n",
       "      <th>25%</th>\n",
       "      <td>-1.197834e-05</td>\n",
       "      <td>0.937076</td>\n",
       "    </tr>\n",
       "    <tr>\n",
       "      <th>50%</th>\n",
       "      <td>-7.107457e-09</td>\n",
       "      <td>2.618543</td>\n",
       "    </tr>\n",
       "    <tr>\n",
       "      <th>75%</th>\n",
       "      <td>1.192717e-05</td>\n",
       "      <td>6.829189</td>\n",
       "    </tr>\n",
       "    <tr>\n",
       "      <th>max</th>\n",
       "      <td>3.150804e-01</td>\n",
       "      <td>116.121178</td>\n",
       "    </tr>\n",
       "  </tbody>\n",
       "</table>\n",
       "</div>"
      ],
      "text/plain": [
       "         Amplitudes   frequencies\n",
       "count  7.652900e+04  76529.000000\n",
       "mean  -1.483061e-06      5.501440\n",
       "std    1.776140e-02      7.954611\n",
       "min   -3.356647e-01      0.000186\n",
       "25%   -1.197834e-05      0.937076\n",
       "50%   -7.107457e-09      2.618543\n",
       "75%    1.192717e-05      6.829189\n",
       "max    3.150804e-01    116.121178"
      ]
     },
     "execution_count": 17,
     "metadata": {},
     "output_type": "execute_result"
    }
   ],
   "source": [
    "d.describe()"
   ]
  },
  {
   "cell_type": "code",
   "execution_count": 18,
   "metadata": {},
   "outputs": [
    {
     "data": {
      "text/plain": [
       "array([ 7.57518592e-07, -1.42896090e-06,  6.52679591e-06, ...,\n",
       "       -6.63526878e-02,  5.88204339e-03,  5.34593761e-02])"
      ]
     },
     "execution_count": 18,
     "metadata": {},
     "output_type": "execute_result"
    }
   ],
   "source": [
    "d['Amplitudes'].unique()"
   ]
  },
  {
   "cell_type": "code",
   "execution_count": 19,
   "metadata": {},
   "outputs": [
    {
     "name": "stdout",
     "output_type": "stream",
     "text": [
      "Total values of amplitude: 76529\n",
      "\n",
      "Unique values of amplitude: 76511\n"
     ]
    }
   ],
   "source": [
    "print('Total values of amplitude: '+str(d['Amplitudes'].size))\n",
    "print('\\nUnique values of amplitude: '+str(d['Amplitudes'].nunique()))"
   ]
  },
  {
   "cell_type": "markdown",
   "metadata": {},
   "source": [
    "# 3. Data visulisation"
   ]
  },
  {
   "cell_type": "code",
   "execution_count": 20,
   "metadata": {},
   "outputs": [
    {
     "data": {
      "text/plain": [
       "<matplotlib.collections.PolyCollection at 0x20b8b853438>"
      ]
     },
     "execution_count": 20,
     "metadata": {},
     "output_type": "execute_result"
    },
    {
     "data": {
      "image/png": "[encoded data removed]",
      "text/plain": [
       "<Figure size 864x288 with 1 Axes>"
      ]
     },
     "metadata": {
      "needs_background": "light"
     },
     "output_type": "display_data"
    }
   ],
   "source": [
    "#variation of sound in signal\n",
    "\n",
    "import glob\n",
    "import librosa.display\n",
    "import matplotlib.pyplot as plt\n",
    "%matplotlib inline\n",
    "\n",
    "plt.figure(figsize=(12, 4))\n",
    "librosa.display.waveplot(data, sr=sampling_rate)"
   ]
  },
  {
   "cell_type": "code",
   "execution_count": 21,
   "metadata": {},
   "outputs": [
    {
     "data": {
      "text/plain": [
       "<matplotlib.axes._subplots.AxesSubplot at 0x20b8b88c5c0>"
      ]
     },
     "execution_count": 21,
     "metadata": {},
     "output_type": "execute_result"
    },
    {
     "data": {
      "image/png": "[encoded data removed]",
      "text/plain": [
       "<Figure size 432x288 with 1 Axes>"
      ]
     },
     "metadata": {
      "needs_background": "light"
     },
     "output_type": "display_data"
    }
   ],
   "source": [
    "#RANGE OF AMPLITUDES AND FREQUENCIES VALUES\n",
    "d.plot.box()"
   ]
  },
  {
   "cell_type": "code",
   "execution_count": 22,
   "metadata": {},
   "outputs": [
    {
     "data": {
      "text/plain": [
       "<matplotlib.axes._subplots.AxesSubplot at 0x20b8b904ef0>"
      ]
     },
     "execution_count": 22,
     "metadata": {},
     "output_type": "execute_result"
    },
    {
     "data": {
      "image/png": "[encoded data removed]",
      "text/plain": [
       "<Figure size 432x288 with 1 Axes>"
      ]
     },
     "metadata": {
      "needs_background": "light"
     },
     "output_type": "display_data"
    }
   ],
   "source": [
    "#Density of values of amplitude\n",
    "d['Amplitudes'].plot.kde()"
   ]
  },
  {
   "cell_type": "code",
   "execution_count": 23,
   "metadata": {},
   "outputs": [
    {
     "data": {
      "text/plain": [
       "<matplotlib.axes._subplots.AxesSubplot at 0x20b8b968eb8>"
      ]
     },
     "execution_count": 23,
     "metadata": {},
     "output_type": "execute_result"
    },
    {
     "data": {
      "image/png": "[encoded data removed]",
      "text/plain": [
       "<Figure size 432x288 with 1 Axes>"
      ]
     },
     "metadata": {
      "needs_background": "light"
     },
     "output_type": "display_data"
    }
   ],
   "source": [
    "#Density of values of Frequencies\n",
    "d['frequencies'].plot.kde()"
   ]
  },
  {
   "cell_type": "code",
   "execution_count": 24,
   "metadata": {},
   "outputs": [
    {
     "data": {
      "image/png": "[encoded data removed]",
      "text/plain": [
       "<Figure size 576x432 with 2 Axes>"
      ]
     },
     "metadata": {
      "needs_background": "light"
     },
     "output_type": "display_data"
    }
   ],
   "source": [
    "#Spectogram showing INTENSITY  of signal\n",
    "plt.figure(2, figsize=(8,6))\n",
    "plt.subplot(211)\n",
    "Pxx, freqs, bins, im = plt.specgram(data, Fs=sampling_rate, NFFT=1024, cmap=plt.get_cmap('autumn_r'))\n",
    "cbar=plt.colorbar(im)\n",
    "plt.xlabel('Time (s)')\n",
    "plt.ylabel('Frequency (Hz)')\n",
    "cbar.set_label('Intensity dB')\n",
    "\n",
    "#maximum intensity is around 250dB"
   ]
  },
  {
   "cell_type": "code",
   "execution_count": 25,
   "metadata": {},
   "outputs": [
    {
     "data": {
      "text/plain": [
       "<matplotlib.axes._subplots.AxesSubplot at 0x20b891cf9b0>"
      ]
     },
     "execution_count": 25,
     "metadata": {},
     "output_type": "execute_result"
    },
    {
     "data": {
      "image/png": "[encoded data removed]",
      "text/plain": [
       "<Figure size 432x288 with 1 Axes>"
      ]
     },
     "metadata": {
      "needs_background": "light"
     },
     "output_type": "display_data"
    }
   ],
   "source": [
    "#CHEKING FOR MISSING VALUES\n",
    "#YELLOW PART REPERESENT NULL VALUES\n",
    "#NO YELLOW PART , NO MISSING VALUE/NO NULL VALUE\n",
    "import seaborn as sns\n",
    "sns.heatmap(d.isnull(),yticklabels=False,cbar=False,cmap=\"viridis\")\n",
    "#yellow part represents null area\n",
    "#no yellow part no null value"
   ]
  },
  {
   "cell_type": "code",
   "execution_count": 26,
   "metadata": {},
   "outputs": [
    {
     "data": {
      "text/plain": [
       "<matplotlib.axes._subplots.AxesSubplot at 0x20b8901a080>"
      ]
     },
     "execution_count": 26,
     "metadata": {},
     "output_type": "execute_result"
    },
    {
     "data": {
      "image/png": "[encoded data removed]",
      "text/plain": [
       "<Figure size 432x288 with 1 Axes>"
      ]
     },
     "metadata": {
      "needs_background": "light"
     },
     "output_type": "display_data"
    }
   ],
   "source": [
    "#Distribution of amplitude is around 0.0 to 0.1 (not high)\n",
    "sns.distplot(d['Amplitudes'])"
   ]
  },
  {
   "cell_type": "code",
   "execution_count": 27,
   "metadata": {},
   "outputs": [
    {
     "data": {
      "text/plain": [
       "<matplotlib.axes._subplots.AxesSubplot at 0x20b891cfd68>"
      ]
     },
     "execution_count": 27,
     "metadata": {},
     "output_type": "execute_result"
    },
    {
     "data": {
      "image/png": "[encoded data removed]",
      "text/plain": [
       "<Figure size 432x288 with 1 Axes>"
      ]
     },
     "metadata": {
      "needs_background": "light"
     },
     "output_type": "display_data"
    }
   ],
   "source": [
    "#Distribution of frequencies is around 0.0 to 20(not high)\n",
    "sns.distplot(d['frequencies'])"
   ]
  },
  {
   "cell_type": "code",
   "execution_count": 28,
   "metadata": {},
   "outputs": [
    {
     "data": {
      "text/plain": [
       "<matplotlib.axes._subplots.AxesSubplot at 0x20b890aacc0>"
      ]
     },
     "execution_count": 28,
     "metadata": {},
     "output_type": "execute_result"
    },
    {
     "data": {
      "image/png": "[encoded data removed]",
      "text/plain": [
       "<Figure size 432x288 with 1 Axes>"
      ]
     },
     "metadata": {
      "needs_background": "light"
     },
     "output_type": "display_data"
    }
   ],
   "source": [
    "#FREQUENCIES PLOTING\n",
    "\n",
    "d[\"frequencies\"].plot(bins=10,kind='hist')"
   ]
  },
  {
   "cell_type": "code",
   "execution_count": 29,
   "metadata": {},
   "outputs": [
    {
     "data": {
      "text/plain": [
       "<matplotlib.axes._subplots.AxesSubplot at 0x20b89f1c4e0>"
      ]
     },
     "execution_count": 29,
     "metadata": {},
     "output_type": "execute_result"
    },
    {
     "data": {
      "image/png": "[encoded data removed]",
      "text/plain": [
       "<Figure size 432x288 with 1 Axes>"
      ]
     },
     "metadata": {
      "needs_background": "light"
     },
     "output_type": "display_data"
    }
   ],
   "source": [
    "#AMPLITUDES PLOTING\n",
    "d[\"Amplitudes\"].plot(bins=10,kind='hist')"
   ]
  },
  {
   "cell_type": "code",
   "execution_count": 30,
   "metadata": {},
   "outputs": [
    {
     "data": {
      "image/png": "[encoded data removed]",
      "text/plain": [
       "<Figure size 432x288 with 1 Axes>"
      ]
     },
     "metadata": {
      "needs_background": "light"
     },
     "output_type": "display_data"
    }
   ],
   "source": [
    "#Peaks in the signal\n",
    "border = np.sin(np.linspace(0, 3 * np.pi, data.size))\n",
    "peaks, _ = scipy.signal.find_peaks(data, height=(-border, border))\n",
    "plt.plot(data)\n",
    "plt.plot(-border, \"--\", color=\"gray\")\n",
    "plt.plot(border, \":\", color=\"gray\")\n",
    "plt.plot(peaks, data[peaks], \"x\")\n",
    "plt.show()"
   ]
  },
  {
   "cell_type": "code",
   "execution_count": 31,
   "metadata": {},
   "outputs": [
    {
     "data": {
      "image/png": "[encoded data removed]",
      "text/plain": [
       "<Figure size 432x288 with 1 Axes>"
      ]
     },
     "metadata": {
      "needs_background": "light"
     },
     "output_type": "display_data"
    }
   ],
   "source": [
    "#highest peak detection\n",
    "#x-mark shows highest pick\n",
    "peaks, properties = scipy.signal.find_peaks(data, prominence=1, width=1)\n",
    "plt.plot(data)\n",
    "plt.plot(peaks, data[peaks], \"x\")\n",
    "plt.vlines(x=peaks, ymin=data[peaks] - properties[\"prominences\"],\n",
    "            ymax = data[peaks], color = \"C1\")\n",
    "plt.hlines(y=properties[\"width_heights\"], xmin=properties[\"left_ips\"],\n",
    "           xmax=properties[\"right_ips\"], color = \"C1\")\n",
    "plt.show()\n"
   ]
  },
  {
   "cell_type": "code",
   "execution_count": 32,
   "metadata": {},
   "outputs": [
    {
     "data": {
      "text/plain": [
       "(array([1.02332419, 1.03682661, 1.1096552 , 1.04086971]),\n",
       " array([3.83478969, 4.09338501, 4.0346853 , 4.22813586]))"
      ]
     },
     "execution_count": 32,
     "metadata": {},
     "output_type": "execute_result"
    }
   ],
   "source": [
    "properties[\"prominences\"], properties[\"widths\"]\n"
   ]
  },
  {
   "cell_type": "code",
   "execution_count": 33,
   "metadata": {},
   "outputs": [
    {
     "data": {
      "text/plain": [
       "Text(0.5, 0, 'frequencies')"
      ]
     },
     "execution_count": 33,
     "metadata": {},
     "output_type": "execute_result"
    },
    {
     "data": {
      "image/png": "[encoded data removed]",
      "text/plain": [
       "<Figure size 432x288 with 2 Axes>"
      ]
     },
     "metadata": {
      "needs_background": "light"
     },
     "output_type": "display_data"
    }
   ],
   "source": [
    "#Normalised distribution of frequencies and Amplitudes\n",
    "from scipy import stats\n",
    "from scipy.stats import norm, skew\n",
    "plt.subplot(1, 2, 1)\n",
    "sns.distplot(np.log(d.Amplitudes+1), kde=False, fit = norm)\n",
    "\n",
    "plt.subplot(1, 2, 2)\n",
    "sns.distplot(np.log(d.frequencies+1), kde=False, fit = norm)\n",
    "plt.xlabel('frequencies')"
   ]
  },
  {
   "cell_type": "code",
   "execution_count": 34,
   "metadata": {},
   "outputs": [
    {
     "data": {
      "text/plain": [
       "<seaborn.axisgrid.JointGrid at 0x20b91920b00>"
      ]
     },
     "execution_count": 34,
     "metadata": {},
     "output_type": "execute_result"
    },
    {
     "data": {
      "image/png": "[encoded data removed]",
      "text/plain": [
       "<Figure size 432x432 with 3 Axes>"
      ]
     },
     "metadata": {
      "needs_background": "light"
     },
     "output_type": "display_data"
    }
   ],
   "source": [
    "sns.jointplot(x=\"Amplitudes\",y=\"frequencies\",data=d)"
   ]
  },
  {
   "cell_type": "markdown",
   "metadata": {},
   "source": [
    "# 4.feature extraction"
   ]
  },
  {
   "cell_type": "code",
   "execution_count": 35,
   "metadata": {},
   "outputs": [
    {
     "name": "stdout",
     "output_type": "stream",
     "text": [
      "duration: 6seconds\n",
      "\n",
      "energy: 93.545296joule\n",
      "\n",
      "power: 15.590882619222006joule/sec\n",
      "\n",
      "min_pitch: 720Hz\n",
      "\n",
      "max_pitch: 16975Hz\n",
      "\n",
      "mean_pitch: 24226.693384207294Hz\n",
      "\n",
      "intensityMin: -266.15718572457047dB\n",
      "\n",
      "intensityMax: -39.10700921096199dB\n",
      "\n",
      "intensityMean: -152.63209746776624dB\n",
      "\n",
      "jitter: 8.405501496007777e-25\n",
      "\n",
      "shimmer: 0.0023049956042799397dB\n",
      "\n",
      "jitterRap: 1155034114.67185\n",
      "\n",
      "numVoiceBrreaks: 3\n",
      "\n",
      "PercentBreaks: 50.0\n",
      "\n",
      "speakRate: 0.14285714285714285wpm\n",
      "\n",
      "numPauses: 4\n",
      "\n",
      "maxDurPauses: 0.382sec\n",
      "\n",
      "avgDurPauses: 0.296sec\n",
      "\n",
      "TotDurPauses: 1.184sec\n",
      "\n",
      "MaxRising: 153053dB\n",
      "\n",
      "MaxFalling: -0.60560673dB\n",
      "\n",
      "AvgToRise: 0.24982359397867449dB\n",
      "\n",
      "AvgToFall: 6.533556345389922e-06dB\n",
      "\n",
      "numRising: 38237\n",
      "\n",
      "numFall: 1\n",
      "\n"
     ]
    }
   ],
   "source": [
    "try:\n",
    "    data,sampling_rate = librosa.load('C:\\\\Users\\\\YASHSHAVI KASHYAP\\\\Downloads\\\\human.wav')\n",
    "    m= data.size\n",
    "\n",
    "#duration\n",
    "    duration=int(m/sampling_rate)#duration of audio\n",
    "\n",
    "#furrier transform of data\n",
    "    data_fft = np.fft.rfft(data)\n",
    "\n",
    "#frequencies\n",
    "    frequencies = np.abs(data_fft)\n",
    "\n",
    "#maximum pitch\n",
    "    maxp=np.argmax(frequencies)\n",
    "\n",
    "    arr=[117]*len(frequencies)\n",
    "    sumf=0\n",
    "    for i in range(0,len(frequencies)):\n",
    "        if int(frequencies[i])>0 and int(frequencies[i])<int(maxp):\n",
    "            arr[i]=int(frequencies[i])\n",
    "            sumf=sumf+i\n",
    "\n",
    "    minp=arr.index(min(arr))#min pitch\n",
    "\n",
    "    meanp=sumf/len(frequencies)#mean pitch\n",
    "\n",
    "    noofsamples=data.size\n",
    "#data_fft is fourier transform of data\n",
    "\n",
    "#total energy\n",
    "    Et=np.sum(data**2)\n",
    "    ef=np.sum(frequencies**2)/noofsamples\n",
    "\n",
    "#power\n",
    "    power=Et/duration\n",
    "\n",
    "\n",
    "    plt.figure(2, figsize=(8,6))\n",
    "    plt.subplot(211)\n",
    "    Pxx, freqs, bins, im = plt.specgram(data, Fs=sampling_rate, NFFT=1024, cmap=plt.get_cmap('autumn_r'))\n",
    "    cbar=plt.colorbar(im)\n",
    "    plt.xlabel('Time (s)')\n",
    "    plt.ylabel('Frequency (Hz)')\n",
    "    cbar.set_label('Intensity dB')\n",
    "    plt.close()\n",
    "\n",
    "#minimum intensity\n",
    "    mini=cbar.vmin\n",
    "#maximum intensity\n",
    "    maxi=cbar.vmax\n",
    "\n",
    "    meani=(mini+maxi)/2\n",
    "    sound = AudioSegment.from_wav(\"C:\\\\Users\\\\YASHSHAVI KASHYAP\\\\Downloads\\\\human.wav\")\n",
    "    chunks = split_on_silence(sound, \n",
    "    # must be silent for at least half a second\n",
    "                    min_silence_len=20,\n",
    "\n",
    "    # consider it silent if quieter than -16 dBFS\n",
    "                    silence_thresh=-(round(abs(sound.dBFS))+100)\n",
    "    )\n",
    "#1000 means 1 sec then 60 second means\n",
    "    sixty_seconds = 60 * 1000\n",
    "\n",
    "    second_1_minute = sound[sixty_seconds:120000]\n",
    "    hunks = split_on_silence(second_1_minute, \n",
    "    # must be silent for at least half a second\n",
    "                min_silence_len=20,\n",
    "\n",
    "    # consider it silent if quieter than -16 dBFS\n",
    "                silence_thresh=-(round(abs(sound.dBFS))+100)\n",
    "    )\n",
    "#1000 means 1 sec then 60 second means\n",
    "\n",
    "#SPEAKING RATE\n",
    "    speaking_rate=len(hunks)/len(chunks)\n",
    "\n",
    "#SILENCES\n",
    "    pauses=detect_silence(sound, min_silence_len=20, silence_thresh=-(round(abs(sound.dBFS))+100), seek_step=1)\n",
    "\n",
    "#FINDING DURATIONS\n",
    "    sumd=0\n",
    "    ls=[]\n",
    "    for start_i, end_i in pauses:\n",
    "             dur=int(end_i)-int(start_i)\n",
    "             ls.append(dur)\n",
    "    breaks=[]\n",
    "\n",
    "#VOICE BREAKS\n",
    "    for i in ls:\n",
    "        if i >900:\n",
    "            breaks.append(i)\n",
    "#SEPRATING BREAKES AND PAUSES\n",
    "    ls=list(set(ls)-set(breaks))\n",
    "\n",
    "#PUASES DURATION\n",
    "    for i in ls:\n",
    "        sumd=sumd+i\n",
    "\n",
    "#TOTAL DURATION OF PAUSES\n",
    "    durp=sumd\n",
    "\n",
    "#NO OF PAUSES\n",
    "    nop=len(ls)\n",
    "\n",
    "#NO OF VOICE BREAKES\n",
    "    noofVoiceBreaks=len(breaks)\n",
    "\n",
    "#MAXIMUM DURATION OF PAUSES\n",
    "    maximum_pause=max(ls)\n",
    "\n",
    "#AVG DURATION OF PAUSES\n",
    "    avgp=durp/nop\n",
    "\n",
    "#FINDING PEAK\n",
    "    peak,_=scipy.signal.find_peaks(data,rel_height=0.5)\n",
    "\n",
    "#MAXIMUM FALLING AND MAXIMUM RISING\n",
    "\n",
    "    MaxFalling=np.amin(data)\n",
    "    MaxRising=np.amax(peak)\n",
    "    sums=0\n",
    "\n",
    "\n",
    "\n",
    "#JITTER, SHIMMER, JITTERRAP \n",
    "    for i in range(1,len(peak)-1):\n",
    "        sums=sums+abs(20*math.log10(peak[i+1]/peak[i]))\n",
    "\n",
    "#SHIMMER\n",
    "    shimmer=sums/(len(peak)-1)\n",
    "    peakf=abs(np.fft.fft(peak))\n",
    "    sumps=0\n",
    "    for i in range(1,len(peakf)-1):\n",
    "        sumps=sumps+(peakf[i+1]**-1)-(peakf[i]**-1)\n",
    "\n",
    "#JITTER\n",
    "    jitter=sumps/(len(peakf)-1)\n",
    "    sortedp=np.sort(peak)\n",
    "    sortedf=abs(np.fft.fft(sortedp))\n",
    "    dif=abs(sortedp[11]-sortedp[15])\n",
    "    suh=0\n",
    "    avgabsdiff=(dif)/4\n",
    "    avgneigh1=(abs(sortedp[6]-sortedp[10]))\n",
    "    avgneigh2=abs(sortedp[17]-sortedp[22])\n",
    "    avg=(dif+avgneigh1+avgneigh2)/3\n",
    "\n",
    "    for i in range(11,16):\n",
    "        suh=suh+abs(sortedf[i]**-1)\n",
    "    period=suh/5\n",
    "\n",
    "#JITTERRAP\n",
    "    jitterrap=(avgabsdiff+avg)/period\n",
    "\n",
    "\n",
    "#NUMBER OF RISING, NUMBER OF FALLING, AVERAGE RISE, AVERAGE FALL\n",
    "\n",
    "    noofrise=len(peak)\n",
    "\n",
    "    avgtorise=noofrise/len(data)\n",
    "    nooffall=0\n",
    "    for i in data:   \n",
    "        if i == np.amin(data):\n",
    "            nooffall=nooffall+1\n",
    "\n",
    "    avgtofall=nooffall/len(data)\n",
    "\n",
    "\n",
    "\n",
    "    print(\"duration: \"+str(duration)+\"seconds\\n\")\n",
    "    print(\"energy: \"+str(Et)+\"joule\\n\")\n",
    "    print(\"power: \"+str(power)+\"joule/sec\\n\")\n",
    "    print(\"min_pitch: \"+str(minp)+\"Hz\\n\")\n",
    "    print(\"max_pitch: \"+str(maxp)+\"Hz\\n\")\n",
    "    print(\"mean_pitch: \"+str(meanp)+\"Hz\\n\")\n",
    "    print(\"intensityMin: \"+str(mini)+\"dB\\n\")\n",
    "    print(\"intensityMax: \"+str(maxi)+\"dB\\n\")\n",
    "    print(\"intensityMean: \"+str(meani)+\"dB\\n\")\n",
    "    print(\"jitter: \"+str(jitter)+\"\\n\")\n",
    "    print(\"shimmer: \"+str(shimmer)+\"dB\\n\")\n",
    "    print(\"jitterRap: \"+str(jitterrap)+\"\\n\")\n",
    "    print(\"numVoiceBrreaks: \"+str(noofVoiceBreaks)+\"\\n\")\n",
    "    print(\"PercentBreaks: \"+str(((noofVoiceBreaks/duration)*100))+\"\\n\")\n",
    "    print(\"speakRate: \"+str(speaking_rate)+\"wpm\\n\")\n",
    "    print(\"numPauses: \"+str(nop)+\"\\n\")\n",
    "    print(\"maxDurPauses: \"+str(maximum_pause/1000)+\"sec\\n\")\n",
    "    print(\"avgDurPauses: \"+str(avgp/1000)+\"sec\\n\")\n",
    "    print(\"TotDurPauses: \"+str(durp/1000)+\"sec\\n\")\n",
    "    print(\"MaxRising: \"+str(MaxRising)+\"dB\\n\")\n",
    "    print(\"MaxFalling: \"+str(MaxFalling)+\"dB\\n\")\n",
    "    print(\"AvgToRise: \"+str(avgtorise)+\"dB\\n\")\n",
    "    print(\"AvgToFall: \"+str(avgtofall)+\"dB\\n\")\n",
    "    print(\"numRising: \"+str(noofrise)+\"\\n\")\n",
    "    print(\"numFall: \"+str(nooffall)+\"\\n\")\n",
    "except:\n",
    "    print('Download all libraries properly')"
   ]
  },
  {
   "cell_type": "code",
   "execution_count": null,
   "metadata": {},
   "outputs": [],
   "source": []
  }
 ],
 "metadata": {
  "kernelspec": {
   "display_name": "Python 3",
   "language": "python",
   "name": "python3"
  },
  "language_info": {
   "codemirror_mode": {
    "name": "ipython",
    "version": 3
   },
   "file_extension": ".py",
   "mimetype": "text/x-python",
   "name": "python",
   "nbconvert_exporter": "python",
   "pygments_lexer": "ipython3",
   "version": "3.7.1"
  }
 },
 "nbformat": 4,
 "nbformat_minor": 2
}
